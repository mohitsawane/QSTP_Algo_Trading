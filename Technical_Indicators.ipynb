{
  "nbformat": 4,
  "nbformat_minor": 0,
  "metadata": {
    "kernelspec": {
      "display_name": "Python 3",
      "language": "python",
      "name": "python3"
    },
    "language_info": {
      "codemirror_mode": {
        "name": "ipython",
        "version": 3
      },
      "file_extension": ".py",
      "mimetype": "text/x-python",
      "name": "python",
      "nbconvert_exporter": "python",
      "pygments_lexer": "ipython3",
      "version": "3.7.3"
    },
    "colab": {
      "name": "Technical Indicators.ipynb",
      "provenance": []
    }
  },
  "cells": [
    {
      "cell_type": "code",
      "metadata": {
        "id": "7u67DYI615OX",
        "colab_type": "code",
        "colab": {
          "base_uri": "https://localhost:8080/",
          "height": 1000
        },
        "outputId": "16c274f6-94d5-4a55-9815-ed66b52e2f69"
      },
      "source": [
        "import pandas_datareader.data as pdr\n",
        "import datetime as dt\n",
        "import pandas as pd\n",
        "import numpy as np\n",
        "start_date = dt.datetime.now() - dt.timedelta(days=90)\n",
        "end_date = dt.datetime.today()\n",
        "tickers  = ['MSFT']\n",
        "ohlcv = pdr.get_data_yahoo(tickers[0],start_date,end_date)\n",
        "df = ohlcv.copy()\n",
        "df\n",
        "MACD(df,5,20,10)\n",
        "MACD(df,3,10,10)[\"Close\"].plot()\n",
        "MACD(df,5,30,10)\n",
        "\n",
        "\n"
      ],
      "execution_count": 49,
      "outputs": [
        {
          "output_type": "execute_result",
          "data": {
            "text/html": [
              "<div>\n",
              "<style scoped>\n",
              "    .dataframe tbody tr th:only-of-type {\n",
              "        vertical-align: middle;\n",
              "    }\n",
              "\n",
              "    .dataframe tbody tr th {\n",
              "        vertical-align: top;\n",
              "    }\n",
              "\n",
              "    .dataframe thead th {\n",
              "        text-align: right;\n",
              "    }\n",
              "</style>\n",
              "<table border=\"1\" class=\"dataframe\">\n",
              "  <thead>\n",
              "    <tr style=\"text-align: right;\">\n",
              "      <th></th>\n",
              "      <th>High</th>\n",
              "      <th>Low</th>\n",
              "      <th>Open</th>\n",
              "      <th>Close</th>\n",
              "      <th>Volume</th>\n",
              "      <th>Adj Close</th>\n",
              "      <th>MA_Fast</th>\n",
              "      <th>MA_Slow</th>\n",
              "      <th>MACD</th>\n",
              "      <th>Signal</th>\n",
              "    </tr>\n",
              "    <tr>\n",
              "      <th>Date</th>\n",
              "      <th></th>\n",
              "      <th></th>\n",
              "      <th></th>\n",
              "      <th></th>\n",
              "      <th></th>\n",
              "      <th></th>\n",
              "      <th></th>\n",
              "      <th></th>\n",
              "      <th></th>\n",
              "      <th></th>\n",
              "    </tr>\n",
              "  </thead>\n",
              "  <tbody>\n",
              "    <tr>\n",
              "      <th>2020-04-28</th>\n",
              "      <td>175.669998</td>\n",
              "      <td>169.389999</td>\n",
              "      <td>175.589996</td>\n",
              "      <td>169.809998</td>\n",
              "      <td>34392700.0</td>\n",
              "      <td>169.338379</td>\n",
              "      <td>171.680532</td>\n",
              "      <td>165.057978</td>\n",
              "      <td>6.622554</td>\n",
              "      <td>8.854721</td>\n",
              "    </tr>\n",
              "    <tr>\n",
              "      <th>2020-04-29</th>\n",
              "      <td>177.679993</td>\n",
              "      <td>171.880005</td>\n",
              "      <td>173.220001</td>\n",
              "      <td>177.429993</td>\n",
              "      <td>51286600.0</td>\n",
              "      <td>176.937210</td>\n",
              "      <td>173.432758</td>\n",
              "      <td>165.881548</td>\n",
              "      <td>7.551210</td>\n",
              "      <td>8.588430</td>\n",
              "    </tr>\n",
              "    <tr>\n",
              "      <th>2020-04-30</th>\n",
              "      <td>180.399994</td>\n",
              "      <td>176.229996</td>\n",
              "      <td>180.000000</td>\n",
              "      <td>179.210007</td>\n",
              "      <td>53661300.0</td>\n",
              "      <td>178.712280</td>\n",
              "      <td>175.192599</td>\n",
              "      <td>166.766824</td>\n",
              "      <td>8.425775</td>\n",
              "      <td>8.555932</td>\n",
              "    </tr>\n",
              "    <tr>\n",
              "      <th>2020-05-01</th>\n",
              "      <td>178.639999</td>\n",
              "      <td>174.009995</td>\n",
              "      <td>175.800003</td>\n",
              "      <td>174.570007</td>\n",
              "      <td>39370500.0</td>\n",
              "      <td>174.085175</td>\n",
              "      <td>174.823457</td>\n",
              "      <td>167.269512</td>\n",
              "      <td>7.553945</td>\n",
              "      <td>8.359273</td>\n",
              "    </tr>\n",
              "    <tr>\n",
              "      <th>2020-05-04</th>\n",
              "      <td>179.000000</td>\n",
              "      <td>173.800003</td>\n",
              "      <td>174.490005</td>\n",
              "      <td>178.839996</td>\n",
              "      <td>30372900.0</td>\n",
              "      <td>178.343292</td>\n",
              "      <td>175.996736</td>\n",
              "      <td>168.026996</td>\n",
              "      <td>7.969740</td>\n",
              "      <td>8.283909</td>\n",
              "    </tr>\n",
              "    <tr>\n",
              "      <th>2020-05-05</th>\n",
              "      <td>183.649994</td>\n",
              "      <td>179.899994</td>\n",
              "      <td>180.619995</td>\n",
              "      <td>180.759995</td>\n",
              "      <td>36839200.0</td>\n",
              "      <td>180.257965</td>\n",
              "      <td>177.417146</td>\n",
              "      <td>168.860396</td>\n",
              "      <td>8.556750</td>\n",
              "      <td>8.336088</td>\n",
              "    </tr>\n",
              "    <tr>\n",
              "      <th>2020-05-06</th>\n",
              "      <td>184.199997</td>\n",
              "      <td>181.630005</td>\n",
              "      <td>182.080002</td>\n",
              "      <td>182.539993</td>\n",
              "      <td>32139300.0</td>\n",
              "      <td>182.033020</td>\n",
              "      <td>178.955770</td>\n",
              "      <td>169.754719</td>\n",
              "      <td>9.201052</td>\n",
              "      <td>8.499963</td>\n",
              "    </tr>\n",
              "    <tr>\n",
              "      <th>2020-05-07</th>\n",
              "      <td>184.550003</td>\n",
              "      <td>182.580002</td>\n",
              "      <td>184.169998</td>\n",
              "      <td>183.600006</td>\n",
              "      <td>28316000.0</td>\n",
              "      <td>183.090088</td>\n",
              "      <td>180.333876</td>\n",
              "      <td>170.657044</td>\n",
              "      <td>9.676832</td>\n",
              "      <td>8.721240</td>\n",
              "    </tr>\n",
              "    <tr>\n",
              "      <th>2020-05-08</th>\n",
              "      <td>185.000000</td>\n",
              "      <td>183.360001</td>\n",
              "      <td>184.979996</td>\n",
              "      <td>184.679993</td>\n",
              "      <td>30912600.0</td>\n",
              "      <td>184.167068</td>\n",
              "      <td>181.611607</td>\n",
              "      <td>171.568319</td>\n",
              "      <td>10.043288</td>\n",
              "      <td>8.968282</td>\n",
              "    </tr>\n",
              "    <tr>\n",
              "      <th>2020-05-11</th>\n",
              "      <td>187.509995</td>\n",
              "      <td>182.850006</td>\n",
              "      <td>183.149994</td>\n",
              "      <td>186.740005</td>\n",
              "      <td>30809400.0</td>\n",
              "      <td>186.221359</td>\n",
              "      <td>183.148191</td>\n",
              "      <td>172.553799</td>\n",
              "      <td>10.594392</td>\n",
              "      <td>9.270616</td>\n",
              "    </tr>\n",
              "    <tr>\n",
              "      <th>2020-05-12</th>\n",
              "      <td>187.039993</td>\n",
              "      <td>182.300003</td>\n",
              "      <td>186.800003</td>\n",
              "      <td>182.509995</td>\n",
              "      <td>32038200.0</td>\n",
              "      <td>182.003098</td>\n",
              "      <td>182.766493</td>\n",
              "      <td>173.187570</td>\n",
              "      <td>9.578924</td>\n",
              "      <td>9.327703</td>\n",
              "    </tr>\n",
              "    <tr>\n",
              "      <th>2020-05-13</th>\n",
              "      <td>184.050003</td>\n",
              "      <td>176.539993</td>\n",
              "      <td>182.550003</td>\n",
              "      <td>179.750000</td>\n",
              "      <td>44711500.0</td>\n",
              "      <td>179.250778</td>\n",
              "      <td>181.594588</td>\n",
              "      <td>173.593197</td>\n",
              "      <td>8.001391</td>\n",
              "      <td>9.082937</td>\n",
              "    </tr>\n",
              "    <tr>\n",
              "      <th>2020-05-14</th>\n",
              "      <td>180.690002</td>\n",
              "      <td>175.679993</td>\n",
              "      <td>177.539993</td>\n",
              "      <td>180.529999</td>\n",
              "      <td>41873900.0</td>\n",
              "      <td>180.028610</td>\n",
              "      <td>181.072596</td>\n",
              "      <td>174.022701</td>\n",
              "      <td>7.049895</td>\n",
              "      <td>8.708766</td>\n",
              "    </tr>\n",
              "    <tr>\n",
              "      <th>2020-05-15</th>\n",
              "      <td>187.059998</td>\n",
              "      <td>177.000000</td>\n",
              "      <td>179.059998</td>\n",
              "      <td>183.160004</td>\n",
              "      <td>46610400.0</td>\n",
              "      <td>182.651306</td>\n",
              "      <td>181.598832</td>\n",
              "      <td>174.597301</td>\n",
              "      <td>7.001531</td>\n",
              "      <td>8.395257</td>\n",
              "    </tr>\n",
              "    <tr>\n",
              "      <th>2020-05-18</th>\n",
              "      <td>186.199997</td>\n",
              "      <td>183.960007</td>\n",
              "      <td>185.750000</td>\n",
              "      <td>184.910004</td>\n",
              "      <td>35306600.0</td>\n",
              "      <td>184.396439</td>\n",
              "      <td>182.531368</td>\n",
              "      <td>175.248499</td>\n",
              "      <td>7.282869</td>\n",
              "      <td>8.191353</td>\n",
              "    </tr>\n",
              "    <tr>\n",
              "      <th>2020-05-19</th>\n",
              "      <td>186.600006</td>\n",
              "      <td>183.490005</td>\n",
              "      <td>185.029999</td>\n",
              "      <td>183.630005</td>\n",
              "      <td>26799100.0</td>\n",
              "      <td>183.119995</td>\n",
              "      <td>182.727577</td>\n",
              "      <td>175.770584</td>\n",
              "      <td>6.956993</td>\n",
              "      <td>7.965427</td>\n",
              "    </tr>\n",
              "    <tr>\n",
              "      <th>2020-05-20</th>\n",
              "      <td>185.850006</td>\n",
              "      <td>183.940002</td>\n",
              "      <td>184.809998</td>\n",
              "      <td>185.660004</td>\n",
              "      <td>31261300.0</td>\n",
              "      <td>185.660004</td>\n",
              "      <td>183.705052</td>\n",
              "      <td>176.425324</td>\n",
              "      <td>7.279728</td>\n",
              "      <td>7.840075</td>\n",
              "    </tr>\n",
              "    <tr>\n",
              "      <th>2020-05-21</th>\n",
              "      <td>186.669998</td>\n",
              "      <td>183.289993</td>\n",
              "      <td>185.399994</td>\n",
              "      <td>183.429993</td>\n",
              "      <td>29119500.0</td>\n",
              "      <td>183.429993</td>\n",
              "      <td>183.613366</td>\n",
              "      <td>176.888294</td>\n",
              "      <td>6.725072</td>\n",
              "      <td>7.636444</td>\n",
              "    </tr>\n",
              "    <tr>\n",
              "      <th>2020-05-22</th>\n",
              "      <td>184.460007</td>\n",
              "      <td>182.539993</td>\n",
              "      <td>183.190002</td>\n",
              "      <td>183.509995</td>\n",
              "      <td>20826900.0</td>\n",
              "      <td>183.509995</td>\n",
              "      <td>183.578909</td>\n",
              "      <td>177.325262</td>\n",
              "      <td>6.253647</td>\n",
              "      <td>7.384111</td>\n",
              "    </tr>\n",
              "    <tr>\n",
              "      <th>2020-05-26</th>\n",
              "      <td>186.500000</td>\n",
              "      <td>181.100006</td>\n",
              "      <td>186.339996</td>\n",
              "      <td>181.570007</td>\n",
              "      <td>36073600.0</td>\n",
              "      <td>181.570007</td>\n",
              "      <td>182.909275</td>\n",
              "      <td>177.604962</td>\n",
              "      <td>5.304313</td>\n",
              "      <td>7.004840</td>\n",
              "    </tr>\n",
              "    <tr>\n",
              "      <th>2020-05-27</th>\n",
              "      <td>181.990005</td>\n",
              "      <td>176.600006</td>\n",
              "      <td>180.199997</td>\n",
              "      <td>181.809998</td>\n",
              "      <td>39517100.0</td>\n",
              "      <td>181.809998</td>\n",
              "      <td>182.542849</td>\n",
              "      <td>177.881664</td>\n",
              "      <td>4.661185</td>\n",
              "      <td>6.577683</td>\n",
              "    </tr>\n",
              "    <tr>\n",
              "      <th>2020-05-28</th>\n",
              "      <td>184.149994</td>\n",
              "      <td>180.380005</td>\n",
              "      <td>180.740005</td>\n",
              "      <td>181.399994</td>\n",
              "      <td>33810200.0</td>\n",
              "      <td>181.399994</td>\n",
              "      <td>182.161897</td>\n",
              "      <td>178.112881</td>\n",
              "      <td>4.049016</td>\n",
              "      <td>6.117010</td>\n",
              "    </tr>\n",
              "    <tr>\n",
              "      <th>2020-05-29</th>\n",
              "      <td>184.270004</td>\n",
              "      <td>180.410004</td>\n",
              "      <td>182.729996</td>\n",
              "      <td>183.250000</td>\n",
              "      <td>42130400.0</td>\n",
              "      <td>183.250000</td>\n",
              "      <td>182.524598</td>\n",
              "      <td>178.450077</td>\n",
              "      <td>4.074521</td>\n",
              "      <td>5.745043</td>\n",
              "    </tr>\n",
              "    <tr>\n",
              "      <th>2020-06-01</th>\n",
              "      <td>183.000000</td>\n",
              "      <td>181.460007</td>\n",
              "      <td>182.539993</td>\n",
              "      <td>182.830002</td>\n",
              "      <td>22613905.0</td>\n",
              "      <td>182.830002</td>\n",
              "      <td>182.626399</td>\n",
              "      <td>178.737249</td>\n",
              "      <td>3.889150</td>\n",
              "      <td>5.407158</td>\n",
              "    </tr>\n",
              "  </tbody>\n",
              "</table>\n",
              "</div>"
            ],
            "text/plain": [
              "                  High         Low        Open  ...     MA_Slow       MACD    Signal\n",
              "Date                                            ...                                 \n",
              "2020-04-28  175.669998  169.389999  175.589996  ...  165.057978   6.622554  8.854721\n",
              "2020-04-29  177.679993  171.880005  173.220001  ...  165.881548   7.551210  8.588430\n",
              "2020-04-30  180.399994  176.229996  180.000000  ...  166.766824   8.425775  8.555932\n",
              "2020-05-01  178.639999  174.009995  175.800003  ...  167.269512   7.553945  8.359273\n",
              "2020-05-04  179.000000  173.800003  174.490005  ...  168.026996   7.969740  8.283909\n",
              "2020-05-05  183.649994  179.899994  180.619995  ...  168.860396   8.556750  8.336088\n",
              "2020-05-06  184.199997  181.630005  182.080002  ...  169.754719   9.201052  8.499963\n",
              "2020-05-07  184.550003  182.580002  184.169998  ...  170.657044   9.676832  8.721240\n",
              "2020-05-08  185.000000  183.360001  184.979996  ...  171.568319  10.043288  8.968282\n",
              "2020-05-11  187.509995  182.850006  183.149994  ...  172.553799  10.594392  9.270616\n",
              "2020-05-12  187.039993  182.300003  186.800003  ...  173.187570   9.578924  9.327703\n",
              "2020-05-13  184.050003  176.539993  182.550003  ...  173.593197   8.001391  9.082937\n",
              "2020-05-14  180.690002  175.679993  177.539993  ...  174.022701   7.049895  8.708766\n",
              "2020-05-15  187.059998  177.000000  179.059998  ...  174.597301   7.001531  8.395257\n",
              "2020-05-18  186.199997  183.960007  185.750000  ...  175.248499   7.282869  8.191353\n",
              "2020-05-19  186.600006  183.490005  185.029999  ...  175.770584   6.956993  7.965427\n",
              "2020-05-20  185.850006  183.940002  184.809998  ...  176.425324   7.279728  7.840075\n",
              "2020-05-21  186.669998  183.289993  185.399994  ...  176.888294   6.725072  7.636444\n",
              "2020-05-22  184.460007  182.539993  183.190002  ...  177.325262   6.253647  7.384111\n",
              "2020-05-26  186.500000  181.100006  186.339996  ...  177.604962   5.304313  7.004840\n",
              "2020-05-27  181.990005  176.600006  180.199997  ...  177.881664   4.661185  6.577683\n",
              "2020-05-28  184.149994  180.380005  180.740005  ...  178.112881   4.049016  6.117010\n",
              "2020-05-29  184.270004  180.410004  182.729996  ...  178.450077   4.074521  5.745043\n",
              "2020-06-01  183.000000  181.460007  182.539993  ...  178.737249   3.889150  5.407158\n",
              "\n",
              "[24 rows x 10 columns]"
            ]
          },
          "metadata": {
            "tags": []
          },
          "execution_count": 49
        },
        {
          "output_type": "display_data",
          "data": {
            "image/png": "[encoded data removed]",
            "text/plain": [
              "<Figure size 432x288 with 1 Axes>"
            ]
          },
          "metadata": {
            "tags": [],
            "needs_background": "light"
          }
        }
      ]
    },
    {
      "cell_type": "markdown",
      "metadata": {
        "id": "7nuWvLpg15OZ",
        "colab_type": "text"
      },
      "source": [
        "# MACD\n"
      ]
    },
    {
      "cell_type": "code",
      "metadata": {
        "id": "roCdFR3Q15Oa",
        "colab_type": "code",
        "colab": {}
      },
      "source": [
        "def MACD(Df,a,b,c):\n",
        "    df = Df.copy()\n",
        "    df['MA_Fast'] = df['Adj Close'].ewm(span = a , min_periods = a).mean()\n",
        "    df['MA_Slow'] = df['Adj Close'].ewm(span = b , min_periods = b).mean()\n",
        "    df['MACD'] = df['MA_Fast'] - df['MA_Slow']\n",
        "    df['Signal'] = df['MACD'].ewm(span = c ,min_periods = c).mean()\n",
        "    df.dropna(inplace=True)\n",
        "    return df"
      ],
      "execution_count": 0,
      "outputs": []
    },
    {
      "cell_type": "markdown",
      "metadata": {
        "id": "yaqWCTqW15Oc",
        "colab_type": "text"
      },
      "source": [
        "\n",
        "# ATR"
      ]
    },
    {
      "cell_type": "code",
      "metadata": {
        "id": "nrkchB7H15Oe",
        "colab_type": "code",
        "colab": {}
      },
      "source": [
        "def ATR(Df,n):\n",
        "    df = Df.copy()\n",
        "    df['H-L'] = abs(df['High'] - df['Low'])\n",
        "    df['H-PC'] = abs(df['High'] - df['Adj Close'].shift(1))\n",
        "    df['L-PC'] = abs(df['Low'] - df['Adj Close'].shift(1))\n",
        "    df['TR'] = df[['H-L','H-PC','L-PC']].max(axis=1,skipna=False)\n",
        "    df['ATR'] = df['TR'].rolling(n).mean()\n",
        "    df2 = df.drop(['H-L','H-PC','L-PC'],axis=1)\n",
        "    return df2\n",
        "    "
      ],
      "execution_count": 0,
      "outputs": []
    },
    {
      "cell_type": "markdown",
      "metadata": {
        "id": "JliTmCdS15Og",
        "colab_type": "text"
      },
      "source": [
        "## Bollinger Band"
      ]
    },
    {
      "cell_type": "code",
      "metadata": {
        "id": "2AU5oHrk15Og",
        "colab_type": "code",
        "colab": {}
      },
      "source": [
        "def BollBnd(Df,n):\n",
        "    df = Df.copy()\n",
        "    df['MA'] = df['Adj Close'].rolling(n).mean()\n",
        "    df['BB_up'] = df['Adj Close'].rolling(n).mean() + 2*df['MA'].rolling(n).std()\n",
        "    df['BB_dn'] = df['Adj Close'].rolling(n).mean() - 2*df['MA'].rolling(n).std()\n",
        "    df['BB_Width'] = df['BB_up'] - df['BB_dn']\n",
        "    df.dropna(inplace=True)\n",
        "    return df"
      ],
      "execution_count": 0,
      "outputs": []
    },
    {
      "cell_type": "code",
      "metadata": {
        "id": "u0jN63NS15Oj",
        "colab_type": "code",
        "colab": {
          "base_uri": "https://localhost:8080/",
          "height": 294
        },
        "outputId": "81efdfe6-3427-4aa8-8a63-71c1f2e43f66"
      },
      "source": [
        "BollBnd(ohlcv,20).iloc[-200:,[6,7,8]].plot()"
      ],
      "execution_count": 28,
      "outputs": [
        {
          "output_type": "execute_result",
          "data": {
            "text/plain": [
              "<matplotlib.axes._subplots.AxesSubplot at 0x7ff64234d550>"
            ]
          },
          "metadata": {
            "tags": []
          },
          "execution_count": 28
        },
        {
          "output_type": "display_data",
          "data": {
            "image/png": "[encoded data removed]",
            "text/plain": [
              "<Figure size 432x288 with 1 Axes>"
            ]
          },
          "metadata": {
            "tags": [],
            "needs_background": "light"
          }
        }
      ]
    },
    {
      "cell_type": "markdown",
      "metadata": {
        "id": "tzYnfmBv15Om",
        "colab_type": "text"
      },
      "source": [
        "# RSI\n"
      ]
    },
    {
      "cell_type": "code",
      "metadata": {
        "id": "Y9SEJUGl15Om",
        "colab_type": "code",
        "colab": {}
      },
      "source": [
        "def RSI(Df,n):\n",
        "    df = Df.copy()\n",
        "    df['delta'] = df['Adj Close'] - df['Adj Close'].shift(1)\n",
        "    df['gain'] = np.where(df['delta']>=0,df['delta'],0)\n",
        "    df['loss'] = np.where(df['delta']<0,abs(df['delta']),0)\n",
        "    avg_gain = []\n",
        "    avg_loss = []\n",
        "    gain = df['gain'].tolist()\n",
        "    loss = df['loss'].tolist()\n",
        "    for i in range(len(df)):\n",
        "        if i < n:\n",
        "            avg_gain.append(np.NaN)\n",
        "            avg_loss.append(np.NaN)\n",
        "        elif i == n:\n",
        "            avg_gain.append(df['gain'].rolling(n).mean().tolist()[n])\n",
        "            avg_loss.append(df['loss'].rolling(n).mean().tolist()[n])\n",
        "        elif i > n:\n",
        "            avg_gain.append(((n-1)*avg_gain[i-1] + gain[i])/n)\n",
        "            avg_loss.append(((n-1)*avg_loss[i-1] + loss[i])/n)\n",
        "    \n",
        "    df['avg_gain'] = np.array(avg_gain)\n",
        "    df['avg_loss'] = np.array(avg_loss)\n",
        "    df['RS'] = df['avg_gain']/df['avg_loss']\n",
        "    df['RSI'] = 100 - (100/(1+df['RS']))\n",
        "    return df\n",
        "            "
      ],
      "execution_count": 0,
      "outputs": []
    },
    {
      "cell_type": "code",
      "metadata": {
        "id": "5dRm6QLy15Op",
        "colab_type": "code",
        "colab": {
          "base_uri": "https://localhost:8080/",
          "height": 286
        },
        "outputId": "04d8539a-50d8-4681-a1a9-647c9cb7e1cf"
      },
      "source": [
        "RSI(ohlcv,14)['RSI'].plot()"
      ],
      "execution_count": 30,
      "outputs": [
        {
          "output_type": "execute_result",
          "data": {
            "text/plain": [
              "<matplotlib.axes._subplots.AxesSubplot at 0x7ff64233c2b0>"
            ]
          },
          "metadata": {
            "tags": []
          },
          "execution_count": 30
        },
        {
          "output_type": "display_data",
          "data": {
            "image/png": "[encoded data removed]",
            "text/plain": [
              "<Figure size 432x288 with 1 Axes>"
            ]
          },
          "metadata": {
            "tags": [],
            "needs_background": "light"
          }
        }
      ]
    },
    {
      "cell_type": "markdown",
      "metadata": {
        "id": "wCRPccYb15Os",
        "colab_type": "text"
      },
      "source": [
        "# ADX"
      ]
    },
    {
      "cell_type": "code",
      "metadata": {
        "id": "_DGiJ5eL15Ot",
        "colab_type": "code",
        "colab": {}
      },
      "source": [
        "def ADX(DF,n):\n",
        "    \"function to calculate ADX\"\n",
        "    df2 = DF.copy()\n",
        "    df2['TR'] = ATR(df2,n)['TR'] #the period parameter of ATR function does not matter because period does not influence TR calculation\n",
        "    df2['DMplus']=np.where((df2['High']-df2['High'].shift(1))>(df2['Low'].shift(1)-df2['Low']),df2['High']-df2['High'].shift(1),0)\n",
        "    df2['DMplus']=np.where(df2['DMplus']<0,0,df2['DMplus'])\n",
        "    df2['DMminus']=np.where((df2['Low'].shift(1)-df2['Low'])>(df2['High']-df2['High'].shift(1)),df2['Low'].shift(1)-df2['Low'],0)\n",
        "    df2['DMminus']=np.where(df2['DMminus']<0,0,df2['DMminus'])\n",
        "    TRn = []\n",
        "    DMplusN = []\n",
        "    DMminusN = []\n",
        "    TR = df2['TR'].tolist()\n",
        "    DMplus = df2['DMplus'].tolist()\n",
        "    DMminus = df2['DMminus'].tolist()\n",
        "    for i in range(len(df2)):\n",
        "        if i < n:\n",
        "            TRn.append(np.NaN)\n",
        "            DMplusN.append(np.NaN)\n",
        "            DMminusN.append(np.NaN)\n",
        "        elif i == n:\n",
        "            TRn.append(df2['TR'].rolling(n).sum().tolist()[n])\n",
        "            DMplusN.append(df2['DMplus'].rolling(n).sum().tolist()[n])\n",
        "            DMminusN.append(df2['DMminus'].rolling(n).sum().tolist()[n])\n",
        "        elif i > n:\n",
        "            TRn.append(TRn[i-1] - (TRn[i-1]/n) + TR[i])\n",
        "            DMplusN.append(DMplusN[i-1] - (DMplusN[i-1]/n) + DMplus[i])\n",
        "            DMminusN.append(DMminusN[i-1] - (DMminusN[i-1]/n) + DMminus[i])\n",
        "    df2['TRn'] = np.array(TRn)\n",
        "    df2['DMplusN'] = np.array(DMplusN)\n",
        "    df2['DMminusN'] = np.array(DMminusN)\n",
        "    df2['DIplusN']=100*(df2['DMplusN']/df2['TRn'])\n",
        "    df2['DIminusN']=100*(df2['DMminusN']/df2['TRn'])\n",
        "    df2['DIdiff']=abs(df2['DIplusN']-df2['DIminusN'])\n",
        "    df2['DIsum']=df2['DIplusN']+df2['DIminusN']\n",
        "    df2['DX']=100*(df2['DIdiff']/df2['DIsum'])\n",
        "    ADX = []\n",
        "    DX = df2['DX'].tolist()\n",
        "    for j in range(len(df2)):\n",
        "        if j < 2*n-1:\n",
        "            ADX.append(np.NaN)\n",
        "        elif j == 2*n-1:\n",
        "            ADX.append(df2['DX'][j-n+1:j+1].mean())\n",
        "        elif j > 2*n-1:\n",
        "            ADX.append(((n-1)*ADX[j-1] + DX[j])/n)\n",
        "    df2['ADX']=np.array(ADX)\n",
        "    return df2['ADX']"
      ],
      "execution_count": 0,
      "outputs": []
    },
    {
      "cell_type": "code",
      "metadata": {
        "id": "5dawXim-15Ov",
        "colab_type": "code",
        "colab": {
          "base_uri": "https://localhost:8080/",
          "height": 286
        },
        "outputId": "16bd07d2-41ae-45cd-e14f-159dc022a2e1"
      },
      "source": [
        "ADX(ohlcv,14).dropna().plot()"
      ],
      "execution_count": 32,
      "outputs": [
        {
          "output_type": "execute_result",
          "data": {
            "text/plain": [
              "<matplotlib.axes._subplots.AxesSubplot at 0x7ff640c2ec88>"
            ]
          },
          "metadata": {
            "tags": []
          },
          "execution_count": 32
        },
        {
          "output_type": "display_data",
          "data": {
            "image/png": "[encoded data removed]",
            "text/plain": [
              "<Figure size 432x288 with 1 Axes>"
            ]
          },
          "metadata": {
            "tags": [],
            "needs_background": "light"
          }
        }
      ]
    },
    {
      "cell_type": "code",
      "metadata": {
        "id": "bMZbAHmI15Oz",
        "colab_type": "code",
        "colab": {}
      },
      "source": [
        ""
      ],
      "execution_count": 0,
      "outputs": []
    }
  ]
}